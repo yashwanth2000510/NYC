{
 "cells": [
  {
   "cell_type": "code",
   "execution_count": 1,
   "id": "3f2c3d6c",
   "metadata": {},
   "outputs": [],
   "source": [
    "import pandas as pd\n",
    "import matplotlib.pyplot as plt\n",
    "import seaborn as sns\n",
    "%matplotlib inline"
   ]
  },
  {
   "cell_type": "code",
   "execution_count": 2,
   "id": "669ce0fe",
   "metadata": {},
   "outputs": [
    {
     "name": "stderr",
     "output_type": "stream",
     "text": [
      "C:\\Users\\ASUS\\AppData\\Local\\Temp\\ipykernel_2756\\1741486433.py:1: DtypeWarning: Columns (48,49) have mixed types. Specify dtype option on import or set low_memory=False.\n",
      "  df = pd.read_csv(\"311_Service_Requests_from_2010_to_Present.csv\")\n"
     ]
    },
    {
     "data": {
      "text/html": [
       "<div>\n",
       "<style scoped>\n",
       "    .dataframe tbody tr th:only-of-type {\n",
       "        vertical-align: middle;\n",
       "    }\n",
       "\n",
       "    .dataframe tbody tr th {\n",
       "        vertical-align: top;\n",
       "    }\n",
       "\n",
       "    .dataframe thead th {\n",
       "        text-align: right;\n",
       "    }\n",
       "</style>\n",
       "<table border=\"1\" class=\"dataframe\">\n",
       "  <thead>\n",
       "    <tr style=\"text-align: right;\">\n",
       "      <th></th>\n",
       "      <th>Unique Key</th>\n",
       "      <th>Created Date</th>\n",
       "      <th>Closed Date</th>\n",
       "      <th>Agency</th>\n",
       "      <th>Agency Name</th>\n",
       "      <th>Complaint Type</th>\n",
       "      <th>Descriptor</th>\n",
       "      <th>Location Type</th>\n",
       "      <th>Incident Zip</th>\n",
       "      <th>Incident Address</th>\n",
       "      <th>...</th>\n",
       "      <th>Bridge Highway Name</th>\n",
       "      <th>Bridge Highway Direction</th>\n",
       "      <th>Road Ramp</th>\n",
       "      <th>Bridge Highway Segment</th>\n",
       "      <th>Garage Lot Name</th>\n",
       "      <th>Ferry Direction</th>\n",
       "      <th>Ferry Terminal Name</th>\n",
       "      <th>Latitude</th>\n",
       "      <th>Longitude</th>\n",
       "      <th>Location</th>\n",
       "    </tr>\n",
       "  </thead>\n",
       "  <tbody>\n",
       "    <tr>\n",
       "      <th>0</th>\n",
       "      <td>32310363</td>\n",
       "      <td>12/31/2015 11:59:45 PM</td>\n",
       "      <td>01/01/2016 12:55:15 AM</td>\n",
       "      <td>NYPD</td>\n",
       "      <td>New York City Police Department</td>\n",
       "      <td>Noise - Street/Sidewalk</td>\n",
       "      <td>Loud Music/Party</td>\n",
       "      <td>Street/Sidewalk</td>\n",
       "      <td>10034.0</td>\n",
       "      <td>71 VERMILYEA AVENUE</td>\n",
       "      <td>...</td>\n",
       "      <td>NaN</td>\n",
       "      <td>NaN</td>\n",
       "      <td>NaN</td>\n",
       "      <td>NaN</td>\n",
       "      <td>NaN</td>\n",
       "      <td>NaN</td>\n",
       "      <td>NaN</td>\n",
       "      <td>40.865682</td>\n",
       "      <td>-73.923501</td>\n",
       "      <td>(40.86568153633767, -73.92350095571744)</td>\n",
       "    </tr>\n",
       "    <tr>\n",
       "      <th>1</th>\n",
       "      <td>32309934</td>\n",
       "      <td>12/31/2015 11:59:44 PM</td>\n",
       "      <td>01/01/2016 01:26:57 AM</td>\n",
       "      <td>NYPD</td>\n",
       "      <td>New York City Police Department</td>\n",
       "      <td>Blocked Driveway</td>\n",
       "      <td>No Access</td>\n",
       "      <td>Street/Sidewalk</td>\n",
       "      <td>11105.0</td>\n",
       "      <td>27-07 23 AVENUE</td>\n",
       "      <td>...</td>\n",
       "      <td>NaN</td>\n",
       "      <td>NaN</td>\n",
       "      <td>NaN</td>\n",
       "      <td>NaN</td>\n",
       "      <td>NaN</td>\n",
       "      <td>NaN</td>\n",
       "      <td>NaN</td>\n",
       "      <td>40.775945</td>\n",
       "      <td>-73.915094</td>\n",
       "      <td>(40.775945312321085, -73.91509393898605)</td>\n",
       "    </tr>\n",
       "    <tr>\n",
       "      <th>2</th>\n",
       "      <td>32309159</td>\n",
       "      <td>12/31/2015 11:59:29 PM</td>\n",
       "      <td>01/01/2016 04:51:03 AM</td>\n",
       "      <td>NYPD</td>\n",
       "      <td>New York City Police Department</td>\n",
       "      <td>Blocked Driveway</td>\n",
       "      <td>No Access</td>\n",
       "      <td>Street/Sidewalk</td>\n",
       "      <td>10458.0</td>\n",
       "      <td>2897 VALENTINE AVENUE</td>\n",
       "      <td>...</td>\n",
       "      <td>NaN</td>\n",
       "      <td>NaN</td>\n",
       "      <td>NaN</td>\n",
       "      <td>NaN</td>\n",
       "      <td>NaN</td>\n",
       "      <td>NaN</td>\n",
       "      <td>NaN</td>\n",
       "      <td>40.870325</td>\n",
       "      <td>-73.888525</td>\n",
       "      <td>(40.870324522111424, -73.88852464418646)</td>\n",
       "    </tr>\n",
       "    <tr>\n",
       "      <th>3</th>\n",
       "      <td>32305098</td>\n",
       "      <td>12/31/2015 11:57:46 PM</td>\n",
       "      <td>01/01/2016 07:43:13 AM</td>\n",
       "      <td>NYPD</td>\n",
       "      <td>New York City Police Department</td>\n",
       "      <td>Illegal Parking</td>\n",
       "      <td>Commercial Overnight Parking</td>\n",
       "      <td>Street/Sidewalk</td>\n",
       "      <td>10461.0</td>\n",
       "      <td>2940 BAISLEY AVENUE</td>\n",
       "      <td>...</td>\n",
       "      <td>NaN</td>\n",
       "      <td>NaN</td>\n",
       "      <td>NaN</td>\n",
       "      <td>NaN</td>\n",
       "      <td>NaN</td>\n",
       "      <td>NaN</td>\n",
       "      <td>NaN</td>\n",
       "      <td>40.835994</td>\n",
       "      <td>-73.828379</td>\n",
       "      <td>(40.83599404683083, -73.82837939584206)</td>\n",
       "    </tr>\n",
       "    <tr>\n",
       "      <th>4</th>\n",
       "      <td>32306529</td>\n",
       "      <td>12/31/2015 11:56:58 PM</td>\n",
       "      <td>01/01/2016 03:24:42 AM</td>\n",
       "      <td>NYPD</td>\n",
       "      <td>New York City Police Department</td>\n",
       "      <td>Illegal Parking</td>\n",
       "      <td>Blocked Sidewalk</td>\n",
       "      <td>Street/Sidewalk</td>\n",
       "      <td>11373.0</td>\n",
       "      <td>87-14 57 ROAD</td>\n",
       "      <td>...</td>\n",
       "      <td>NaN</td>\n",
       "      <td>NaN</td>\n",
       "      <td>NaN</td>\n",
       "      <td>NaN</td>\n",
       "      <td>NaN</td>\n",
       "      <td>NaN</td>\n",
       "      <td>NaN</td>\n",
       "      <td>40.733060</td>\n",
       "      <td>-73.874170</td>\n",
       "      <td>(40.733059618956815, -73.87416975810375)</td>\n",
       "    </tr>\n",
       "  </tbody>\n",
       "</table>\n",
       "<p>5 rows × 53 columns</p>\n",
       "</div>"
      ],
      "text/plain": [
       "   Unique Key            Created Date             Closed Date Agency  \\\n",
       "0    32310363  12/31/2015 11:59:45 PM  01/01/2016 12:55:15 AM   NYPD   \n",
       "1    32309934  12/31/2015 11:59:44 PM  01/01/2016 01:26:57 AM   NYPD   \n",
       "2    32309159  12/31/2015 11:59:29 PM  01/01/2016 04:51:03 AM   NYPD   \n",
       "3    32305098  12/31/2015 11:57:46 PM  01/01/2016 07:43:13 AM   NYPD   \n",
       "4    32306529  12/31/2015 11:56:58 PM  01/01/2016 03:24:42 AM   NYPD   \n",
       "\n",
       "                       Agency Name           Complaint Type  \\\n",
       "0  New York City Police Department  Noise - Street/Sidewalk   \n",
       "1  New York City Police Department         Blocked Driveway   \n",
       "2  New York City Police Department         Blocked Driveway   \n",
       "3  New York City Police Department          Illegal Parking   \n",
       "4  New York City Police Department          Illegal Parking   \n",
       "\n",
       "                     Descriptor    Location Type  Incident Zip  \\\n",
       "0              Loud Music/Party  Street/Sidewalk       10034.0   \n",
       "1                     No Access  Street/Sidewalk       11105.0   \n",
       "2                     No Access  Street/Sidewalk       10458.0   \n",
       "3  Commercial Overnight Parking  Street/Sidewalk       10461.0   \n",
       "4              Blocked Sidewalk  Street/Sidewalk       11373.0   \n",
       "\n",
       "        Incident Address  ... Bridge Highway Name Bridge Highway Direction  \\\n",
       "0    71 VERMILYEA AVENUE  ...                 NaN                      NaN   \n",
       "1        27-07 23 AVENUE  ...                 NaN                      NaN   \n",
       "2  2897 VALENTINE AVENUE  ...                 NaN                      NaN   \n",
       "3    2940 BAISLEY AVENUE  ...                 NaN                      NaN   \n",
       "4          87-14 57 ROAD  ...                 NaN                      NaN   \n",
       "\n",
       "  Road Ramp Bridge Highway Segment Garage Lot Name Ferry Direction  \\\n",
       "0       NaN                    NaN             NaN             NaN   \n",
       "1       NaN                    NaN             NaN             NaN   \n",
       "2       NaN                    NaN             NaN             NaN   \n",
       "3       NaN                    NaN             NaN             NaN   \n",
       "4       NaN                    NaN             NaN             NaN   \n",
       "\n",
       "  Ferry Terminal Name   Latitude  Longitude  \\\n",
       "0                 NaN  40.865682 -73.923501   \n",
       "1                 NaN  40.775945 -73.915094   \n",
       "2                 NaN  40.870325 -73.888525   \n",
       "3                 NaN  40.835994 -73.828379   \n",
       "4                 NaN  40.733060 -73.874170   \n",
       "\n",
       "                                   Location  \n",
       "0   (40.86568153633767, -73.92350095571744)  \n",
       "1  (40.775945312321085, -73.91509393898605)  \n",
       "2  (40.870324522111424, -73.88852464418646)  \n",
       "3   (40.83599404683083, -73.82837939584206)  \n",
       "4  (40.733059618956815, -73.87416975810375)  \n",
       "\n",
       "[5 rows x 53 columns]"
      ]
     },
     "execution_count": 2,
     "metadata": {},
     "output_type": "execute_result"
    }
   ],
   "source": [
    "df = pd.read_csv(\"311_Service_Requests_from_2010_to_Present.csv\")\n",
    "df.head()"
   ]
  },
  {
   "cell_type": "code",
   "execution_count": 3,
   "id": "e7860ca9",
   "metadata": {},
   "outputs": [
    {
     "data": {
      "text/plain": [
       "(364558, 53)"
      ]
     },
     "execution_count": 3,
     "metadata": {},
     "output_type": "execute_result"
    }
   ],
   "source": [
    "df.shape"
   ]
  },
  {
   "cell_type": "code",
   "execution_count": 4,
   "id": "281221d8",
   "metadata": {},
   "outputs": [
    {
     "name": "stdout",
     "output_type": "stream",
     "text": [
      "<class 'pandas.core.frame.DataFrame'>\n",
      "RangeIndex: 364558 entries, 0 to 364557\n",
      "Data columns (total 53 columns):\n",
      " #   Column                          Non-Null Count   Dtype  \n",
      "---  ------                          --------------   -----  \n",
      " 0   Unique Key                      364558 non-null  int64  \n",
      " 1   Created Date                    364558 non-null  object \n",
      " 2   Closed Date                     362177 non-null  object \n",
      " 3   Agency                          364558 non-null  object \n",
      " 4   Agency Name                     364558 non-null  object \n",
      " 5   Complaint Type                  364558 non-null  object \n",
      " 6   Descriptor                      358057 non-null  object \n",
      " 7   Location Type                   364425 non-null  object \n",
      " 8   Incident Zip                    361560 non-null  float64\n",
      " 9   Incident Address                312859 non-null  object \n",
      " 10  Street Name                     312859 non-null  object \n",
      " 11  Cross Street 1                  307370 non-null  object \n",
      " 12  Cross Street 2                  306753 non-null  object \n",
      " 13  Intersection Street 1           51120 non-null   object \n",
      " 14  Intersection Street 2           50512 non-null   object \n",
      " 15  Address Type                    361306 non-null  object \n",
      " 16  City                            361561 non-null  object \n",
      " 17  Landmark                        375 non-null     object \n",
      " 18  Facility Type                   362169 non-null  object \n",
      " 19  Status                          364558 non-null  object \n",
      " 20  Due Date                        364555 non-null  object \n",
      " 21  Resolution Description          364558 non-null  object \n",
      " 22  Resolution Action Updated Date  362156 non-null  object \n",
      " 23  Community Board                 364558 non-null  object \n",
      " 24  Borough                         364558 non-null  object \n",
      " 25  X Coordinate (State Plane)      360528 non-null  float64\n",
      " 26  Y Coordinate (State Plane)      360528 non-null  float64\n",
      " 27  Park Facility Name              364558 non-null  object \n",
      " 28  Park Borough                    364558 non-null  object \n",
      " 29  School Name                     364558 non-null  object \n",
      " 30  School Number                   364558 non-null  object \n",
      " 31  School Region                   364557 non-null  object \n",
      " 32  School Code                     364557 non-null  object \n",
      " 33  School Phone Number             364558 non-null  object \n",
      " 34  School Address                  364558 non-null  object \n",
      " 35  School City                     364558 non-null  object \n",
      " 36  School State                    364558 non-null  object \n",
      " 37  School Zip                      364557 non-null  object \n",
      " 38  School Not Found                364558 non-null  object \n",
      " 39  School or Citywide Complaint    0 non-null       float64\n",
      " 40  Vehicle Type                    0 non-null       float64\n",
      " 41  Taxi Company Borough            0 non-null       float64\n",
      " 42  Taxi Pick Up Location           0 non-null       float64\n",
      " 43  Bridge Highway Name             297 non-null     object \n",
      " 44  Bridge Highway Direction        297 non-null     object \n",
      " 45  Road Ramp                       262 non-null     object \n",
      " 46  Bridge Highway Segment          262 non-null     object \n",
      " 47  Garage Lot Name                 0 non-null       float64\n",
      " 48  Ferry Direction                 1 non-null       object \n",
      " 49  Ferry Terminal Name             2 non-null       object \n",
      " 50  Latitude                        360528 non-null  float64\n",
      " 51  Longitude                       360528 non-null  float64\n",
      " 52  Location                        360528 non-null  object \n",
      "dtypes: float64(10), int64(1), object(42)\n",
      "memory usage: 147.4+ MB\n"
     ]
    }
   ],
   "source": [
    "df.info()"
   ]
  },
  {
   "cell_type": "code",
   "execution_count": 5,
   "id": "6354d3b0",
   "metadata": {},
   "outputs": [
    {
     "data": {
      "text/html": [
       "<div>\n",
       "<style scoped>\n",
       "    .dataframe tbody tr th:only-of-type {\n",
       "        vertical-align: middle;\n",
       "    }\n",
       "\n",
       "    .dataframe tbody tr th {\n",
       "        vertical-align: top;\n",
       "    }\n",
       "\n",
       "    .dataframe thead th {\n",
       "        text-align: right;\n",
       "    }\n",
       "</style>\n",
       "<table border=\"1\" class=\"dataframe\">\n",
       "  <thead>\n",
       "    <tr style=\"text-align: right;\">\n",
       "      <th></th>\n",
       "      <th>Unique Key</th>\n",
       "      <th>Incident Zip</th>\n",
       "      <th>X Coordinate (State Plane)</th>\n",
       "      <th>Y Coordinate (State Plane)</th>\n",
       "      <th>School or Citywide Complaint</th>\n",
       "      <th>Vehicle Type</th>\n",
       "      <th>Taxi Company Borough</th>\n",
       "      <th>Taxi Pick Up Location</th>\n",
       "      <th>Garage Lot Name</th>\n",
       "      <th>Latitude</th>\n",
       "      <th>Longitude</th>\n",
       "    </tr>\n",
       "  </thead>\n",
       "  <tbody>\n",
       "    <tr>\n",
       "      <th>count</th>\n",
       "      <td>3.645580e+05</td>\n",
       "      <td>361560.000000</td>\n",
       "      <td>3.605280e+05</td>\n",
       "      <td>360528.000000</td>\n",
       "      <td>0.0</td>\n",
       "      <td>0.0</td>\n",
       "      <td>0.0</td>\n",
       "      <td>0.0</td>\n",
       "      <td>0.0</td>\n",
       "      <td>360528.000000</td>\n",
       "      <td>360528.000000</td>\n",
       "    </tr>\n",
       "    <tr>\n",
       "      <th>mean</th>\n",
       "      <td>3.106595e+07</td>\n",
       "      <td>10858.496659</td>\n",
       "      <td>1.005043e+06</td>\n",
       "      <td>203425.305782</td>\n",
       "      <td>NaN</td>\n",
       "      <td>NaN</td>\n",
       "      <td>NaN</td>\n",
       "      <td>NaN</td>\n",
       "      <td>NaN</td>\n",
       "      <td>40.724980</td>\n",
       "      <td>-73.924946</td>\n",
       "    </tr>\n",
       "    <tr>\n",
       "      <th>std</th>\n",
       "      <td>7.331531e+05</td>\n",
       "      <td>578.263114</td>\n",
       "      <td>2.196362e+04</td>\n",
       "      <td>29842.192857</td>\n",
       "      <td>NaN</td>\n",
       "      <td>NaN</td>\n",
       "      <td>NaN</td>\n",
       "      <td>NaN</td>\n",
       "      <td>NaN</td>\n",
       "      <td>0.081907</td>\n",
       "      <td>0.079213</td>\n",
       "    </tr>\n",
       "    <tr>\n",
       "      <th>min</th>\n",
       "      <td>2.960737e+07</td>\n",
       "      <td>83.000000</td>\n",
       "      <td>9.133570e+05</td>\n",
       "      <td>121185.000000</td>\n",
       "      <td>NaN</td>\n",
       "      <td>NaN</td>\n",
       "      <td>NaN</td>\n",
       "      <td>NaN</td>\n",
       "      <td>NaN</td>\n",
       "      <td>40.499040</td>\n",
       "      <td>-74.254937</td>\n",
       "    </tr>\n",
       "    <tr>\n",
       "      <th>25%</th>\n",
       "      <td>3.049938e+07</td>\n",
       "      <td>10314.000000</td>\n",
       "      <td>9.919460e+05</td>\n",
       "      <td>182945.000000</td>\n",
       "      <td>NaN</td>\n",
       "      <td>NaN</td>\n",
       "      <td>NaN</td>\n",
       "      <td>NaN</td>\n",
       "      <td>NaN</td>\n",
       "      <td>40.668742</td>\n",
       "      <td>-73.972253</td>\n",
       "    </tr>\n",
       "    <tr>\n",
       "      <th>50%</th>\n",
       "      <td>3.108795e+07</td>\n",
       "      <td>11209.000000</td>\n",
       "      <td>1.003470e+06</td>\n",
       "      <td>201023.000000</td>\n",
       "      <td>NaN</td>\n",
       "      <td>NaN</td>\n",
       "      <td>NaN</td>\n",
       "      <td>NaN</td>\n",
       "      <td>NaN</td>\n",
       "      <td>40.718406</td>\n",
       "      <td>-73.930643</td>\n",
       "    </tr>\n",
       "    <tr>\n",
       "      <th>75%</th>\n",
       "      <td>3.167433e+07</td>\n",
       "      <td>11238.000000</td>\n",
       "      <td>1.019134e+06</td>\n",
       "      <td>222790.000000</td>\n",
       "      <td>NaN</td>\n",
       "      <td>NaN</td>\n",
       "      <td>NaN</td>\n",
       "      <td>NaN</td>\n",
       "      <td>NaN</td>\n",
       "      <td>40.778166</td>\n",
       "      <td>-73.874098</td>\n",
       "    </tr>\n",
       "    <tr>\n",
       "      <th>max</th>\n",
       "      <td>3.231065e+07</td>\n",
       "      <td>11697.000000</td>\n",
       "      <td>1.067186e+06</td>\n",
       "      <td>271876.000000</td>\n",
       "      <td>NaN</td>\n",
       "      <td>NaN</td>\n",
       "      <td>NaN</td>\n",
       "      <td>NaN</td>\n",
       "      <td>NaN</td>\n",
       "      <td>40.912869</td>\n",
       "      <td>-73.700715</td>\n",
       "    </tr>\n",
       "  </tbody>\n",
       "</table>\n",
       "</div>"
      ],
      "text/plain": [
       "         Unique Key   Incident Zip  X Coordinate (State Plane)  \\\n",
       "count  3.645580e+05  361560.000000                3.605280e+05   \n",
       "mean   3.106595e+07   10858.496659                1.005043e+06   \n",
       "std    7.331531e+05     578.263114                2.196362e+04   \n",
       "min    2.960737e+07      83.000000                9.133570e+05   \n",
       "25%    3.049938e+07   10314.000000                9.919460e+05   \n",
       "50%    3.108795e+07   11209.000000                1.003470e+06   \n",
       "75%    3.167433e+07   11238.000000                1.019134e+06   \n",
       "max    3.231065e+07   11697.000000                1.067186e+06   \n",
       "\n",
       "       Y Coordinate (State Plane)  School or Citywide Complaint  Vehicle Type  \\\n",
       "count               360528.000000                           0.0           0.0   \n",
       "mean                203425.305782                           NaN           NaN   \n",
       "std                  29842.192857                           NaN           NaN   \n",
       "min                 121185.000000                           NaN           NaN   \n",
       "25%                 182945.000000                           NaN           NaN   \n",
       "50%                 201023.000000                           NaN           NaN   \n",
       "75%                 222790.000000                           NaN           NaN   \n",
       "max                 271876.000000                           NaN           NaN   \n",
       "\n",
       "       Taxi Company Borough  Taxi Pick Up Location  Garage Lot Name  \\\n",
       "count                   0.0                    0.0              0.0   \n",
       "mean                    NaN                    NaN              NaN   \n",
       "std                     NaN                    NaN              NaN   \n",
       "min                     NaN                    NaN              NaN   \n",
       "25%                     NaN                    NaN              NaN   \n",
       "50%                     NaN                    NaN              NaN   \n",
       "75%                     NaN                    NaN              NaN   \n",
       "max                     NaN                    NaN              NaN   \n",
       "\n",
       "            Latitude      Longitude  \n",
       "count  360528.000000  360528.000000  \n",
       "mean       40.724980     -73.924946  \n",
       "std         0.081907       0.079213  \n",
       "min        40.499040     -74.254937  \n",
       "25%        40.668742     -73.972253  \n",
       "50%        40.718406     -73.930643  \n",
       "75%        40.778166     -73.874098  \n",
       "max        40.912869     -73.700715  "
      ]
     },
     "execution_count": 5,
     "metadata": {},
     "output_type": "execute_result"
    }
   ],
   "source": [
    "df.describe()"
   ]
  },
  {
   "cell_type": "code",
   "execution_count": 6,
   "id": "538053ee",
   "metadata": {},
   "outputs": [
    {
     "data": {
      "text/plain": [
       "Unique Key                             0\n",
       "Created Date                           0\n",
       "Closed Date                         2381\n",
       "Agency                                 0\n",
       "Agency Name                            0\n",
       "Complaint Type                         0\n",
       "Descriptor                          6501\n",
       "Location Type                        133\n",
       "Incident Zip                        2998\n",
       "Incident Address                   51699\n",
       "Street Name                        51699\n",
       "Cross Street 1                     57188\n",
       "Cross Street 2                     57805\n",
       "Intersection Street 1             313438\n",
       "Intersection Street 2             314046\n",
       "Address Type                        3252\n",
       "City                                2997\n",
       "Landmark                          364183\n",
       "Facility Type                       2389\n",
       "Status                                 0\n",
       "Due Date                               3\n",
       "Resolution Description                 0\n",
       "Resolution Action Updated Date      2402\n",
       "Community Board                        0\n",
       "Borough                                0\n",
       "X Coordinate (State Plane)          4030\n",
       "Y Coordinate (State Plane)          4030\n",
       "Park Facility Name                     0\n",
       "Park Borough                           0\n",
       "School Name                            0\n",
       "School Number                          0\n",
       "School Region                          1\n",
       "School Code                            1\n",
       "School Phone Number                    0\n",
       "School Address                         0\n",
       "School City                            0\n",
       "School State                           0\n",
       "School Zip                             1\n",
       "School Not Found                       0\n",
       "School or Citywide Complaint      364558\n",
       "Vehicle Type                      364558\n",
       "Taxi Company Borough              364558\n",
       "Taxi Pick Up Location             364558\n",
       "Bridge Highway Name               364261\n",
       "Bridge Highway Direction          364261\n",
       "Road Ramp                         364296\n",
       "Bridge Highway Segment            364296\n",
       "Garage Lot Name                   364558\n",
       "Ferry Direction                   364557\n",
       "Ferry Terminal Name               364556\n",
       "Latitude                            4030\n",
       "Longitude                           4030\n",
       "Location                            4030\n",
       "dtype: int64"
      ]
     },
     "execution_count": 6,
     "metadata": {},
     "output_type": "execute_result"
    }
   ],
   "source": [
    "df.isnull().sum()"
   ]
  },
  {
   "cell_type": "code",
   "execution_count": 7,
   "id": "bea94f7b",
   "metadata": {},
   "outputs": [],
   "source": [
    "df.drop(df.columns[[13, 14, 17,39,40,41,42,43,44,45,46,47,48,49]], axis=1, inplace=True)"
   ]
  },
  {
   "cell_type": "code",
   "execution_count": 8,
   "id": "083bf0bc",
   "metadata": {},
   "outputs": [
    {
     "data": {
      "text/plain": [
       "(364558, 39)"
      ]
     },
     "execution_count": 8,
     "metadata": {},
     "output_type": "execute_result"
    }
   ],
   "source": [
    "df.shape"
   ]
  },
  {
   "cell_type": "markdown",
   "id": "26fdd00b",
   "metadata": {},
   "source": [
    "# dropin the rows which less than 2% of the missing values"
   ]
  },
  {
   "cell_type": "code",
   "execution_count": 9,
   "id": "56c3a50a",
   "metadata": {},
   "outputs": [],
   "source": [
    "df.dropna(subset=['Closed Date'], inplace=True)"
   ]
  },
  {
   "cell_type": "code",
   "execution_count": 10,
   "id": "d1d0b7c4",
   "metadata": {},
   "outputs": [
    {
     "data": {
      "text/plain": [
       "0"
      ]
     },
     "execution_count": 10,
     "metadata": {},
     "output_type": "execute_result"
    }
   ],
   "source": [
    "df['Closed Date'].isnull().sum()"
   ]
  },
  {
   "cell_type": "code",
   "execution_count": 11,
   "id": "6e2841e3",
   "metadata": {},
   "outputs": [],
   "source": [
    "df.dropna(subset=['Due Date'], inplace=True)"
   ]
  },
  {
   "cell_type": "code",
   "execution_count": 12,
   "id": "14a5f0c3",
   "metadata": {},
   "outputs": [
    {
     "data": {
      "text/plain": [
       "0"
      ]
     },
     "execution_count": 12,
     "metadata": {},
     "output_type": "execute_result"
    }
   ],
   "source": [
    "df['Due Date'].isnull().sum()"
   ]
  },
  {
   "cell_type": "code",
   "execution_count": 13,
   "id": "253bf58f",
   "metadata": {},
   "outputs": [],
   "source": [
    "df.dropna(subset=['Location Type'], inplace=True)"
   ]
  },
  {
   "cell_type": "code",
   "execution_count": 14,
   "id": "94ffdaa8",
   "metadata": {},
   "outputs": [
    {
     "data": {
      "text/plain": [
       "0"
      ]
     },
     "execution_count": 14,
     "metadata": {},
     "output_type": "execute_result"
    }
   ],
   "source": [
    "df['Location Type'].isnull().sum()"
   ]
  },
  {
   "cell_type": "code",
   "execution_count": 15,
   "id": "7696e5ef",
   "metadata": {},
   "outputs": [],
   "source": [
    "df.dropna(subset=['Descriptor'], inplace=True)"
   ]
  },
  {
   "cell_type": "code",
   "execution_count": 16,
   "id": "4fed8235",
   "metadata": {},
   "outputs": [
    {
     "data": {
      "text/plain": [
       "0"
      ]
     },
     "execution_count": 16,
     "metadata": {},
     "output_type": "execute_result"
    }
   ],
   "source": [
    "df['Descriptor'].isnull().sum()"
   ]
  },
  {
   "cell_type": "code",
   "execution_count": 17,
   "id": "68394db4",
   "metadata": {},
   "outputs": [],
   "source": [
    "df.dropna(subset=['Incident Zip'], inplace=True)"
   ]
  },
  {
   "cell_type": "code",
   "execution_count": 18,
   "id": "0e23cf67",
   "metadata": {},
   "outputs": [
    {
     "data": {
      "text/plain": [
       "0"
      ]
     },
     "execution_count": 18,
     "metadata": {},
     "output_type": "execute_result"
    }
   ],
   "source": [
    "df['Incident Zip'].isnull().sum()"
   ]
  },
  {
   "cell_type": "code",
   "execution_count": 19,
   "id": "4bb8fb95",
   "metadata": {},
   "outputs": [],
   "source": [
    "df.dropna(subset=['City'], inplace=True)"
   ]
  },
  {
   "cell_type": "code",
   "execution_count": 20,
   "id": "5f9e0de8",
   "metadata": {},
   "outputs": [
    {
     "data": {
      "text/plain": [
       "0"
      ]
     },
     "execution_count": 20,
     "metadata": {},
     "output_type": "execute_result"
    }
   ],
   "source": [
    "df['City'].isnull().sum()"
   ]
  },
  {
   "cell_type": "code",
   "execution_count": 21,
   "id": "825ddb9e",
   "metadata": {},
   "outputs": [],
   "source": [
    "df.dropna(subset=[\"Address Type\"], inplace=True)"
   ]
  },
  {
   "cell_type": "code",
   "execution_count": 22,
   "id": "42969224",
   "metadata": {},
   "outputs": [
    {
     "data": {
      "text/plain": [
       "0"
      ]
     },
     "execution_count": 22,
     "metadata": {},
     "output_type": "execute_result"
    }
   ],
   "source": [
    "df[\"Address Type\"].isnull().sum()"
   ]
  },
  {
   "cell_type": "code",
   "execution_count": 23,
   "id": "4c08999a",
   "metadata": {},
   "outputs": [],
   "source": [
    "df.dropna(subset=[\"Resolution Action Updated Date\"], inplace=True)"
   ]
  },
  {
   "cell_type": "code",
   "execution_count": 24,
   "id": "0c41044a",
   "metadata": {},
   "outputs": [
    {
     "data": {
      "text/plain": [
       "0"
      ]
     },
     "execution_count": 24,
     "metadata": {},
     "output_type": "execute_result"
    }
   ],
   "source": [
    "df[\"Resolution Action Updated Date\"].isnull().sum()"
   ]
  },
  {
   "cell_type": "code",
   "execution_count": 25,
   "id": "561574c5",
   "metadata": {},
   "outputs": [],
   "source": [
    "df.dropna(subset=[\"Facility Type\"], inplace=True)"
   ]
  },
  {
   "cell_type": "code",
   "execution_count": 26,
   "id": "5ea64ce2",
   "metadata": {},
   "outputs": [
    {
     "data": {
      "text/plain": [
       "0"
      ]
     },
     "execution_count": 26,
     "metadata": {},
     "output_type": "execute_result"
    }
   ],
   "source": [
    "df[\"Facility Type\"].isnull().sum()"
   ]
  },
  {
   "cell_type": "code",
   "execution_count": 27,
   "id": "5d6f1aae",
   "metadata": {},
   "outputs": [
    {
     "data": {
      "text/plain": [
       "Unique Key                            0\n",
       "Created Date                          0\n",
       "Closed Date                           0\n",
       "Agency                                0\n",
       "Agency Name                           0\n",
       "Complaint Type                        0\n",
       "Descriptor                            0\n",
       "Location Type                         0\n",
       "Incident Zip                          0\n",
       "Incident Address                  49116\n",
       "Street Name                       49116\n",
       "Cross Street 1                    52290\n",
       "Cross Street 2                    52298\n",
       "Address Type                          0\n",
       "City                                  0\n",
       "Facility Type                         0\n",
       "Status                                0\n",
       "Due Date                              0\n",
       "Resolution Description                0\n",
       "Resolution Action Updated Date        0\n",
       "Community Board                       0\n",
       "Borough                               0\n",
       "X Coordinate (State Plane)         1005\n",
       "Y Coordinate (State Plane)         1005\n",
       "Park Facility Name                    0\n",
       "Park Borough                          0\n",
       "School Name                           0\n",
       "School Number                         0\n",
       "School Region                         0\n",
       "School Code                           0\n",
       "School Phone Number                   0\n",
       "School Address                        0\n",
       "School City                           0\n",
       "School State                          0\n",
       "School Zip                            0\n",
       "School Not Found                      0\n",
       "Latitude                           1005\n",
       "Longitude                          1005\n",
       "Location                           1005\n",
       "dtype: int64"
      ]
     },
     "execution_count": 27,
     "metadata": {},
     "output_type": "execute_result"
    }
   ],
   "source": [
    "df.isnull().sum()"
   ]
  },
  {
   "cell_type": "markdown",
   "id": "91db72cc",
   "metadata": {},
   "source": [
    "# Filling NAN with the previous values "
   ]
  },
  {
   "cell_type": "code",
   "execution_count": 28,
   "id": "33c98406",
   "metadata": {},
   "outputs": [],
   "source": [
    "df = df.fillna(method= \"pad\")"
   ]
  },
  {
   "cell_type": "code",
   "execution_count": 29,
   "id": "40c454d3",
   "metadata": {},
   "outputs": [
    {
     "data": {
      "text/plain": [
       "Unique Key                        0\n",
       "Created Date                      0\n",
       "Closed Date                       0\n",
       "Agency                            0\n",
       "Agency Name                       0\n",
       "Complaint Type                    0\n",
       "Descriptor                        0\n",
       "Location Type                     0\n",
       "Incident Zip                      0\n",
       "Incident Address                  0\n",
       "Street Name                       0\n",
       "Cross Street 1                    0\n",
       "Cross Street 2                    0\n",
       "Address Type                      0\n",
       "City                              0\n",
       "Facility Type                     0\n",
       "Status                            0\n",
       "Due Date                          0\n",
       "Resolution Description            0\n",
       "Resolution Action Updated Date    0\n",
       "Community Board                   0\n",
       "Borough                           0\n",
       "X Coordinate (State Plane)        0\n",
       "Y Coordinate (State Plane)        0\n",
       "Park Facility Name                0\n",
       "Park Borough                      0\n",
       "School Name                       0\n",
       "School Number                     0\n",
       "School Region                     0\n",
       "School Code                       0\n",
       "School Phone Number               0\n",
       "School Address                    0\n",
       "School City                       0\n",
       "School State                      0\n",
       "School Zip                        0\n",
       "School Not Found                  0\n",
       "Latitude                          0\n",
       "Longitude                         0\n",
       "Location                          0\n",
       "dtype: int64"
      ]
     },
     "execution_count": 29,
     "metadata": {},
     "output_type": "execute_result"
    }
   ],
   "source": [
    "df.isnull().sum()"
   ]
  },
  {
   "cell_type": "code",
   "execution_count": 30,
   "id": "2e912851",
   "metadata": {},
   "outputs": [
    {
     "data": {
      "text/plain": [
       "0"
      ]
     },
     "execution_count": 30,
     "metadata": {},
     "output_type": "execute_result"
    }
   ],
   "source": [
    "df.isnull().sum().sum()"
   ]
  },
  {
   "cell_type": "code",
   "execution_count": 31,
   "id": "72972adf",
   "metadata": {},
   "outputs": [
    {
     "name": "stdout",
     "output_type": "stream",
     "text": [
      "<class 'pandas.core.frame.DataFrame'>\n",
      "Int64Index: 354622 entries, 0 to 364557\n",
      "Data columns (total 39 columns):\n",
      " #   Column                          Non-Null Count   Dtype  \n",
      "---  ------                          --------------   -----  \n",
      " 0   Unique Key                      354622 non-null  int64  \n",
      " 1   Created Date                    354622 non-null  object \n",
      " 2   Closed Date                     354622 non-null  object \n",
      " 3   Agency                          354622 non-null  object \n",
      " 4   Agency Name                     354622 non-null  object \n",
      " 5   Complaint Type                  354622 non-null  object \n",
      " 6   Descriptor                      354622 non-null  object \n",
      " 7   Location Type                   354622 non-null  object \n",
      " 8   Incident Zip                    354622 non-null  float64\n",
      " 9   Incident Address                354622 non-null  object \n",
      " 10  Street Name                     354622 non-null  object \n",
      " 11  Cross Street 1                  354622 non-null  object \n",
      " 12  Cross Street 2                  354622 non-null  object \n",
      " 13  Address Type                    354622 non-null  object \n",
      " 14  City                            354622 non-null  object \n",
      " 15  Facility Type                   354622 non-null  object \n",
      " 16  Status                          354622 non-null  object \n",
      " 17  Due Date                        354622 non-null  object \n",
      " 18  Resolution Description          354622 non-null  object \n",
      " 19  Resolution Action Updated Date  354622 non-null  object \n",
      " 20  Community Board                 354622 non-null  object \n",
      " 21  Borough                         354622 non-null  object \n",
      " 22  X Coordinate (State Plane)      354622 non-null  float64\n",
      " 23  Y Coordinate (State Plane)      354622 non-null  float64\n",
      " 24  Park Facility Name              354622 non-null  object \n",
      " 25  Park Borough                    354622 non-null  object \n",
      " 26  School Name                     354622 non-null  object \n",
      " 27  School Number                   354622 non-null  object \n",
      " 28  School Region                   354622 non-null  object \n",
      " 29  School Code                     354622 non-null  object \n",
      " 30  School Phone Number             354622 non-null  object \n",
      " 31  School Address                  354622 non-null  object \n",
      " 32  School City                     354622 non-null  object \n",
      " 33  School State                    354622 non-null  object \n",
      " 34  School Zip                      354622 non-null  object \n",
      " 35  School Not Found                354622 non-null  object \n",
      " 36  Latitude                        354622 non-null  float64\n",
      " 37  Longitude                       354622 non-null  float64\n",
      " 38  Location                        354622 non-null  object \n",
      "dtypes: float64(5), int64(1), object(33)\n",
      "memory usage: 108.2+ MB\n"
     ]
    }
   ],
   "source": [
    "df.info()"
   ]
  },
  {
   "cell_type": "code",
   "execution_count": 32,
   "id": "6826609f",
   "metadata": {},
   "outputs": [
    {
     "data": {
      "text/html": [
       "<div>\n",
       "<style scoped>\n",
       "    .dataframe tbody tr th:only-of-type {\n",
       "        vertical-align: middle;\n",
       "    }\n",
       "\n",
       "    .dataframe tbody tr th {\n",
       "        vertical-align: top;\n",
       "    }\n",
       "\n",
       "    .dataframe thead th {\n",
       "        text-align: right;\n",
       "    }\n",
       "</style>\n",
       "<table border=\"1\" class=\"dataframe\">\n",
       "  <thead>\n",
       "    <tr style=\"text-align: right;\">\n",
       "      <th></th>\n",
       "      <th>Unique Key</th>\n",
       "      <th>Created Date</th>\n",
       "      <th>Closed Date</th>\n",
       "      <th>Agency</th>\n",
       "      <th>Agency Name</th>\n",
       "      <th>Complaint Type</th>\n",
       "      <th>Descriptor</th>\n",
       "      <th>Location Type</th>\n",
       "      <th>Incident Zip</th>\n",
       "      <th>Incident Address</th>\n",
       "      <th>...</th>\n",
       "      <th>School Code</th>\n",
       "      <th>School Phone Number</th>\n",
       "      <th>School Address</th>\n",
       "      <th>School City</th>\n",
       "      <th>School State</th>\n",
       "      <th>School Zip</th>\n",
       "      <th>School Not Found</th>\n",
       "      <th>Latitude</th>\n",
       "      <th>Longitude</th>\n",
       "      <th>Location</th>\n",
       "    </tr>\n",
       "  </thead>\n",
       "  <tbody>\n",
       "    <tr>\n",
       "      <th>0</th>\n",
       "      <td>32310363</td>\n",
       "      <td>12/31/2015 11:59:45 PM</td>\n",
       "      <td>01/01/2016 12:55:15 AM</td>\n",
       "      <td>NYPD</td>\n",
       "      <td>New York City Police Department</td>\n",
       "      <td>Noise - Street/Sidewalk</td>\n",
       "      <td>Loud Music/Party</td>\n",
       "      <td>Street/Sidewalk</td>\n",
       "      <td>10034.0</td>\n",
       "      <td>71 VERMILYEA AVENUE</td>\n",
       "      <td>...</td>\n",
       "      <td>Unspecified</td>\n",
       "      <td>Unspecified</td>\n",
       "      <td>Unspecified</td>\n",
       "      <td>Unspecified</td>\n",
       "      <td>Unspecified</td>\n",
       "      <td>Unspecified</td>\n",
       "      <td>N</td>\n",
       "      <td>40.865682</td>\n",
       "      <td>-73.923501</td>\n",
       "      <td>(40.86568153633767, -73.92350095571744)</td>\n",
       "    </tr>\n",
       "    <tr>\n",
       "      <th>1</th>\n",
       "      <td>32309934</td>\n",
       "      <td>12/31/2015 11:59:44 PM</td>\n",
       "      <td>01/01/2016 01:26:57 AM</td>\n",
       "      <td>NYPD</td>\n",
       "      <td>New York City Police Department</td>\n",
       "      <td>Blocked Driveway</td>\n",
       "      <td>No Access</td>\n",
       "      <td>Street/Sidewalk</td>\n",
       "      <td>11105.0</td>\n",
       "      <td>27-07 23 AVENUE</td>\n",
       "      <td>...</td>\n",
       "      <td>Unspecified</td>\n",
       "      <td>Unspecified</td>\n",
       "      <td>Unspecified</td>\n",
       "      <td>Unspecified</td>\n",
       "      <td>Unspecified</td>\n",
       "      <td>Unspecified</td>\n",
       "      <td>N</td>\n",
       "      <td>40.775945</td>\n",
       "      <td>-73.915094</td>\n",
       "      <td>(40.775945312321085, -73.91509393898605)</td>\n",
       "    </tr>\n",
       "    <tr>\n",
       "      <th>2</th>\n",
       "      <td>32309159</td>\n",
       "      <td>12/31/2015 11:59:29 PM</td>\n",
       "      <td>01/01/2016 04:51:03 AM</td>\n",
       "      <td>NYPD</td>\n",
       "      <td>New York City Police Department</td>\n",
       "      <td>Blocked Driveway</td>\n",
       "      <td>No Access</td>\n",
       "      <td>Street/Sidewalk</td>\n",
       "      <td>10458.0</td>\n",
       "      <td>2897 VALENTINE AVENUE</td>\n",
       "      <td>...</td>\n",
       "      <td>Unspecified</td>\n",
       "      <td>Unspecified</td>\n",
       "      <td>Unspecified</td>\n",
       "      <td>Unspecified</td>\n",
       "      <td>Unspecified</td>\n",
       "      <td>Unspecified</td>\n",
       "      <td>N</td>\n",
       "      <td>40.870325</td>\n",
       "      <td>-73.888525</td>\n",
       "      <td>(40.870324522111424, -73.88852464418646)</td>\n",
       "    </tr>\n",
       "    <tr>\n",
       "      <th>3</th>\n",
       "      <td>32305098</td>\n",
       "      <td>12/31/2015 11:57:46 PM</td>\n",
       "      <td>01/01/2016 07:43:13 AM</td>\n",
       "      <td>NYPD</td>\n",
       "      <td>New York City Police Department</td>\n",
       "      <td>Illegal Parking</td>\n",
       "      <td>Commercial Overnight Parking</td>\n",
       "      <td>Street/Sidewalk</td>\n",
       "      <td>10461.0</td>\n",
       "      <td>2940 BAISLEY AVENUE</td>\n",
       "      <td>...</td>\n",
       "      <td>Unspecified</td>\n",
       "      <td>Unspecified</td>\n",
       "      <td>Unspecified</td>\n",
       "      <td>Unspecified</td>\n",
       "      <td>Unspecified</td>\n",
       "      <td>Unspecified</td>\n",
       "      <td>N</td>\n",
       "      <td>40.835994</td>\n",
       "      <td>-73.828379</td>\n",
       "      <td>(40.83599404683083, -73.82837939584206)</td>\n",
       "    </tr>\n",
       "    <tr>\n",
       "      <th>4</th>\n",
       "      <td>32306529</td>\n",
       "      <td>12/31/2015 11:56:58 PM</td>\n",
       "      <td>01/01/2016 03:24:42 AM</td>\n",
       "      <td>NYPD</td>\n",
       "      <td>New York City Police Department</td>\n",
       "      <td>Illegal Parking</td>\n",
       "      <td>Blocked Sidewalk</td>\n",
       "      <td>Street/Sidewalk</td>\n",
       "      <td>11373.0</td>\n",
       "      <td>87-14 57 ROAD</td>\n",
       "      <td>...</td>\n",
       "      <td>Unspecified</td>\n",
       "      <td>Unspecified</td>\n",
       "      <td>Unspecified</td>\n",
       "      <td>Unspecified</td>\n",
       "      <td>Unspecified</td>\n",
       "      <td>Unspecified</td>\n",
       "      <td>N</td>\n",
       "      <td>40.733060</td>\n",
       "      <td>-73.874170</td>\n",
       "      <td>(40.733059618956815, -73.87416975810375)</td>\n",
       "    </tr>\n",
       "  </tbody>\n",
       "</table>\n",
       "<p>5 rows × 39 columns</p>\n",
       "</div>"
      ],
      "text/plain": [
       "   Unique Key            Created Date             Closed Date Agency  \\\n",
       "0    32310363  12/31/2015 11:59:45 PM  01/01/2016 12:55:15 AM   NYPD   \n",
       "1    32309934  12/31/2015 11:59:44 PM  01/01/2016 01:26:57 AM   NYPD   \n",
       "2    32309159  12/31/2015 11:59:29 PM  01/01/2016 04:51:03 AM   NYPD   \n",
       "3    32305098  12/31/2015 11:57:46 PM  01/01/2016 07:43:13 AM   NYPD   \n",
       "4    32306529  12/31/2015 11:56:58 PM  01/01/2016 03:24:42 AM   NYPD   \n",
       "\n",
       "                       Agency Name           Complaint Type  \\\n",
       "0  New York City Police Department  Noise - Street/Sidewalk   \n",
       "1  New York City Police Department         Blocked Driveway   \n",
       "2  New York City Police Department         Blocked Driveway   \n",
       "3  New York City Police Department          Illegal Parking   \n",
       "4  New York City Police Department          Illegal Parking   \n",
       "\n",
       "                     Descriptor    Location Type  Incident Zip  \\\n",
       "0              Loud Music/Party  Street/Sidewalk       10034.0   \n",
       "1                     No Access  Street/Sidewalk       11105.0   \n",
       "2                     No Access  Street/Sidewalk       10458.0   \n",
       "3  Commercial Overnight Parking  Street/Sidewalk       10461.0   \n",
       "4              Blocked Sidewalk  Street/Sidewalk       11373.0   \n",
       "\n",
       "        Incident Address  ...  School Code School Phone Number School Address  \\\n",
       "0    71 VERMILYEA AVENUE  ...  Unspecified         Unspecified    Unspecified   \n",
       "1        27-07 23 AVENUE  ...  Unspecified         Unspecified    Unspecified   \n",
       "2  2897 VALENTINE AVENUE  ...  Unspecified         Unspecified    Unspecified   \n",
       "3    2940 BAISLEY AVENUE  ...  Unspecified         Unspecified    Unspecified   \n",
       "4          87-14 57 ROAD  ...  Unspecified         Unspecified    Unspecified   \n",
       "\n",
       "   School City School State   School Zip School Not Found   Latitude  \\\n",
       "0  Unspecified  Unspecified  Unspecified                N  40.865682   \n",
       "1  Unspecified  Unspecified  Unspecified                N  40.775945   \n",
       "2  Unspecified  Unspecified  Unspecified                N  40.870325   \n",
       "3  Unspecified  Unspecified  Unspecified                N  40.835994   \n",
       "4  Unspecified  Unspecified  Unspecified                N  40.733060   \n",
       "\n",
       "   Longitude                                  Location  \n",
       "0 -73.923501   (40.86568153633767, -73.92350095571744)  \n",
       "1 -73.915094  (40.775945312321085, -73.91509393898605)  \n",
       "2 -73.888525  (40.870324522111424, -73.88852464418646)  \n",
       "3 -73.828379   (40.83599404683083, -73.82837939584206)  \n",
       "4 -73.874170  (40.733059618956815, -73.87416975810375)  \n",
       "\n",
       "[5 rows x 39 columns]"
      ]
     },
     "execution_count": 32,
     "metadata": {},
     "output_type": "execute_result"
    }
   ],
   "source": [
    "df.head()"
   ]
  },
  {
   "cell_type": "code",
   "execution_count": 33,
   "id": "f4df7684",
   "metadata": {},
   "outputs": [],
   "source": [
    "df[\"Created Date\"] = pd.to_datetime(df[\"Created Date\"])"
   ]
  },
  {
   "cell_type": "code",
   "execution_count": 34,
   "id": "72cddd38",
   "metadata": {},
   "outputs": [
    {
     "name": "stdout",
     "output_type": "stream",
     "text": [
      "<class 'pandas.core.series.Series'>\n",
      "Int64Index: 354622 entries, 0 to 364557\n",
      "Series name: Created Date\n",
      "Non-Null Count   Dtype         \n",
      "--------------   -----         \n",
      "354622 non-null  datetime64[ns]\n",
      "dtypes: datetime64[ns](1)\n",
      "memory usage: 5.4 MB\n"
     ]
    }
   ],
   "source": [
    "df[\"Created Date\"].info()"
   ]
  },
  {
   "cell_type": "code",
   "execution_count": 35,
   "id": "6dffed92",
   "metadata": {},
   "outputs": [],
   "source": [
    "df[\"Closed Date\"] = pd.to_datetime(df[\"Closed Date\"])"
   ]
  },
  {
   "cell_type": "code",
   "execution_count": 36,
   "id": "63beab12",
   "metadata": {},
   "outputs": [
    {
     "name": "stdout",
     "output_type": "stream",
     "text": [
      "<class 'pandas.core.series.Series'>\n",
      "Int64Index: 354622 entries, 0 to 364557\n",
      "Series name: Closed Date\n",
      "Non-Null Count   Dtype         \n",
      "--------------   -----         \n",
      "354622 non-null  datetime64[ns]\n",
      "dtypes: datetime64[ns](1)\n",
      "memory usage: 5.4 MB\n"
     ]
    }
   ],
   "source": [
    "df[\"Closed Date\"].info()"
   ]
  },
  {
   "cell_type": "code",
   "execution_count": 37,
   "id": "6fe6b547",
   "metadata": {},
   "outputs": [],
   "source": [
    "df[\"Due Date\"] = pd.to_datetime(df[\"Due Date\"])"
   ]
  },
  {
   "cell_type": "code",
   "execution_count": 38,
   "id": "784f7510",
   "metadata": {},
   "outputs": [
    {
     "name": "stdout",
     "output_type": "stream",
     "text": [
      "<class 'pandas.core.series.Series'>\n",
      "Int64Index: 354622 entries, 0 to 364557\n",
      "Series name: Due Date\n",
      "Non-Null Count   Dtype         \n",
      "--------------   -----         \n",
      "354622 non-null  datetime64[ns]\n",
      "dtypes: datetime64[ns](1)\n",
      "memory usage: 5.4 MB\n"
     ]
    }
   ],
   "source": [
    "df[\"Due Date\"].info()"
   ]
  },
  {
   "cell_type": "code",
   "execution_count": 39,
   "id": "c147eefe",
   "metadata": {},
   "outputs": [
    {
     "data": {
      "text/html": [
       "<div>\n",
       "<style scoped>\n",
       "    .dataframe tbody tr th:only-of-type {\n",
       "        vertical-align: middle;\n",
       "    }\n",
       "\n",
       "    .dataframe tbody tr th {\n",
       "        vertical-align: top;\n",
       "    }\n",
       "\n",
       "    .dataframe thead th {\n",
       "        text-align: right;\n",
       "    }\n",
       "</style>\n",
       "<table border=\"1\" class=\"dataframe\">\n",
       "  <thead>\n",
       "    <tr style=\"text-align: right;\">\n",
       "      <th></th>\n",
       "      <th>Unique Key</th>\n",
       "      <th>Created Date</th>\n",
       "      <th>Closed Date</th>\n",
       "      <th>Agency</th>\n",
       "      <th>Agency Name</th>\n",
       "      <th>Complaint Type</th>\n",
       "      <th>Descriptor</th>\n",
       "      <th>Location Type</th>\n",
       "      <th>Incident Zip</th>\n",
       "      <th>Incident Address</th>\n",
       "      <th>...</th>\n",
       "      <th>School Code</th>\n",
       "      <th>School Phone Number</th>\n",
       "      <th>School Address</th>\n",
       "      <th>School City</th>\n",
       "      <th>School State</th>\n",
       "      <th>School Zip</th>\n",
       "      <th>School Not Found</th>\n",
       "      <th>Latitude</th>\n",
       "      <th>Longitude</th>\n",
       "      <th>Location</th>\n",
       "    </tr>\n",
       "  </thead>\n",
       "  <tbody>\n",
       "    <tr>\n",
       "      <th>0</th>\n",
       "      <td>32310363</td>\n",
       "      <td>2015-12-31 23:59:45</td>\n",
       "      <td>2016-01-01 00:55:15</td>\n",
       "      <td>NYPD</td>\n",
       "      <td>New York City Police Department</td>\n",
       "      <td>Noise - Street/Sidewalk</td>\n",
       "      <td>Loud Music/Party</td>\n",
       "      <td>Street/Sidewalk</td>\n",
       "      <td>10034.0</td>\n",
       "      <td>71 VERMILYEA AVENUE</td>\n",
       "      <td>...</td>\n",
       "      <td>Unspecified</td>\n",
       "      <td>Unspecified</td>\n",
       "      <td>Unspecified</td>\n",
       "      <td>Unspecified</td>\n",
       "      <td>Unspecified</td>\n",
       "      <td>Unspecified</td>\n",
       "      <td>N</td>\n",
       "      <td>40.865682</td>\n",
       "      <td>-73.923501</td>\n",
       "      <td>(40.86568153633767, -73.92350095571744)</td>\n",
       "    </tr>\n",
       "    <tr>\n",
       "      <th>1</th>\n",
       "      <td>32309934</td>\n",
       "      <td>2015-12-31 23:59:44</td>\n",
       "      <td>2016-01-01 01:26:57</td>\n",
       "      <td>NYPD</td>\n",
       "      <td>New York City Police Department</td>\n",
       "      <td>Blocked Driveway</td>\n",
       "      <td>No Access</td>\n",
       "      <td>Street/Sidewalk</td>\n",
       "      <td>11105.0</td>\n",
       "      <td>27-07 23 AVENUE</td>\n",
       "      <td>...</td>\n",
       "      <td>Unspecified</td>\n",
       "      <td>Unspecified</td>\n",
       "      <td>Unspecified</td>\n",
       "      <td>Unspecified</td>\n",
       "      <td>Unspecified</td>\n",
       "      <td>Unspecified</td>\n",
       "      <td>N</td>\n",
       "      <td>40.775945</td>\n",
       "      <td>-73.915094</td>\n",
       "      <td>(40.775945312321085, -73.91509393898605)</td>\n",
       "    </tr>\n",
       "    <tr>\n",
       "      <th>2</th>\n",
       "      <td>32309159</td>\n",
       "      <td>2015-12-31 23:59:29</td>\n",
       "      <td>2016-01-01 04:51:03</td>\n",
       "      <td>NYPD</td>\n",
       "      <td>New York City Police Department</td>\n",
       "      <td>Blocked Driveway</td>\n",
       "      <td>No Access</td>\n",
       "      <td>Street/Sidewalk</td>\n",
       "      <td>10458.0</td>\n",
       "      <td>2897 VALENTINE AVENUE</td>\n",
       "      <td>...</td>\n",
       "      <td>Unspecified</td>\n",
       "      <td>Unspecified</td>\n",
       "      <td>Unspecified</td>\n",
       "      <td>Unspecified</td>\n",
       "      <td>Unspecified</td>\n",
       "      <td>Unspecified</td>\n",
       "      <td>N</td>\n",
       "      <td>40.870325</td>\n",
       "      <td>-73.888525</td>\n",
       "      <td>(40.870324522111424, -73.88852464418646)</td>\n",
       "    </tr>\n",
       "    <tr>\n",
       "      <th>3</th>\n",
       "      <td>32305098</td>\n",
       "      <td>2015-12-31 23:57:46</td>\n",
       "      <td>2016-01-01 07:43:13</td>\n",
       "      <td>NYPD</td>\n",
       "      <td>New York City Police Department</td>\n",
       "      <td>Illegal Parking</td>\n",
       "      <td>Commercial Overnight Parking</td>\n",
       "      <td>Street/Sidewalk</td>\n",
       "      <td>10461.0</td>\n",
       "      <td>2940 BAISLEY AVENUE</td>\n",
       "      <td>...</td>\n",
       "      <td>Unspecified</td>\n",
       "      <td>Unspecified</td>\n",
       "      <td>Unspecified</td>\n",
       "      <td>Unspecified</td>\n",
       "      <td>Unspecified</td>\n",
       "      <td>Unspecified</td>\n",
       "      <td>N</td>\n",
       "      <td>40.835994</td>\n",
       "      <td>-73.828379</td>\n",
       "      <td>(40.83599404683083, -73.82837939584206)</td>\n",
       "    </tr>\n",
       "    <tr>\n",
       "      <th>4</th>\n",
       "      <td>32306529</td>\n",
       "      <td>2015-12-31 23:56:58</td>\n",
       "      <td>2016-01-01 03:24:42</td>\n",
       "      <td>NYPD</td>\n",
       "      <td>New York City Police Department</td>\n",
       "      <td>Illegal Parking</td>\n",
       "      <td>Blocked Sidewalk</td>\n",
       "      <td>Street/Sidewalk</td>\n",
       "      <td>11373.0</td>\n",
       "      <td>87-14 57 ROAD</td>\n",
       "      <td>...</td>\n",
       "      <td>Unspecified</td>\n",
       "      <td>Unspecified</td>\n",
       "      <td>Unspecified</td>\n",
       "      <td>Unspecified</td>\n",
       "      <td>Unspecified</td>\n",
       "      <td>Unspecified</td>\n",
       "      <td>N</td>\n",
       "      <td>40.733060</td>\n",
       "      <td>-73.874170</td>\n",
       "      <td>(40.733059618956815, -73.87416975810375)</td>\n",
       "    </tr>\n",
       "  </tbody>\n",
       "</table>\n",
       "<p>5 rows × 39 columns</p>\n",
       "</div>"
      ],
      "text/plain": [
       "   Unique Key        Created Date         Closed Date Agency  \\\n",
       "0    32310363 2015-12-31 23:59:45 2016-01-01 00:55:15   NYPD   \n",
       "1    32309934 2015-12-31 23:59:44 2016-01-01 01:26:57   NYPD   \n",
       "2    32309159 2015-12-31 23:59:29 2016-01-01 04:51:03   NYPD   \n",
       "3    32305098 2015-12-31 23:57:46 2016-01-01 07:43:13   NYPD   \n",
       "4    32306529 2015-12-31 23:56:58 2016-01-01 03:24:42   NYPD   \n",
       "\n",
       "                       Agency Name           Complaint Type  \\\n",
       "0  New York City Police Department  Noise - Street/Sidewalk   \n",
       "1  New York City Police Department         Blocked Driveway   \n",
       "2  New York City Police Department         Blocked Driveway   \n",
       "3  New York City Police Department          Illegal Parking   \n",
       "4  New York City Police Department          Illegal Parking   \n",
       "\n",
       "                     Descriptor    Location Type  Incident Zip  \\\n",
       "0              Loud Music/Party  Street/Sidewalk       10034.0   \n",
       "1                     No Access  Street/Sidewalk       11105.0   \n",
       "2                     No Access  Street/Sidewalk       10458.0   \n",
       "3  Commercial Overnight Parking  Street/Sidewalk       10461.0   \n",
       "4              Blocked Sidewalk  Street/Sidewalk       11373.0   \n",
       "\n",
       "        Incident Address  ...  School Code School Phone Number School Address  \\\n",
       "0    71 VERMILYEA AVENUE  ...  Unspecified         Unspecified    Unspecified   \n",
       "1        27-07 23 AVENUE  ...  Unspecified         Unspecified    Unspecified   \n",
       "2  2897 VALENTINE AVENUE  ...  Unspecified         Unspecified    Unspecified   \n",
       "3    2940 BAISLEY AVENUE  ...  Unspecified         Unspecified    Unspecified   \n",
       "4          87-14 57 ROAD  ...  Unspecified         Unspecified    Unspecified   \n",
       "\n",
       "   School City School State   School Zip School Not Found   Latitude  \\\n",
       "0  Unspecified  Unspecified  Unspecified                N  40.865682   \n",
       "1  Unspecified  Unspecified  Unspecified                N  40.775945   \n",
       "2  Unspecified  Unspecified  Unspecified                N  40.870325   \n",
       "3  Unspecified  Unspecified  Unspecified                N  40.835994   \n",
       "4  Unspecified  Unspecified  Unspecified                N  40.733060   \n",
       "\n",
       "   Longitude                                  Location  \n",
       "0 -73.923501   (40.86568153633767, -73.92350095571744)  \n",
       "1 -73.915094  (40.775945312321085, -73.91509393898605)  \n",
       "2 -73.888525  (40.870324522111424, -73.88852464418646)  \n",
       "3 -73.828379   (40.83599404683083, -73.82837939584206)  \n",
       "4 -73.874170  (40.733059618956815, -73.87416975810375)  \n",
       "\n",
       "[5 rows x 39 columns]"
      ]
     },
     "execution_count": 39,
     "metadata": {},
     "output_type": "execute_result"
    }
   ],
   "source": [
    "df.head()"
   ]
  },
  {
   "cell_type": "markdown",
   "id": "2baa7603",
   "metadata": {},
   "source": [
    "# Frequency of complaints city-wise"
   ]
  },
  {
   "cell_type": "code",
   "execution_count": 53,
   "id": "b42c9ff6",
   "metadata": {},
   "outputs": [
    {
     "data": {
      "text/plain": [
       "<AxesSubplot:title={'center':'The frequency of complaints'}, ylabel='City,Complaint Type'>"
      ]
     },
     "execution_count": 53,
     "metadata": {},
     "output_type": "execute_result"
    },
    {
     "data": {
      "image/png": "[encoded data removed]",
      "text/plain": [
       "<Figure size 1000x600 with 1 Axes>"
      ]
     },
     "metadata": {},
     "output_type": "display_data"
    }
   ],
   "source": [
    "df[[\"City\",\"Complaint Type\"]].value_counts().head(25).plot(kind='barh',figsize=(10,6), title = 'The frequency of complaints')"
   ]
  },
  {
   "cell_type": "markdown",
   "id": "14898fd0",
   "metadata": {},
   "source": [
    "#  Scatter plot for the concentration of compliants across Brooklyn "
   ]
  },
  {
   "cell_type": "code",
   "execution_count": 41,
   "id": "ad2b727d",
   "metadata": {},
   "outputs": [],
   "source": [
    "df_Brooklyn = df[df['City']=='BROOKLYN']"
   ]
  },
  {
   "cell_type": "code",
   "execution_count": 42,
   "id": "183836cb",
   "metadata": {},
   "outputs": [
    {
     "data": {
      "text/plain": [
       "<AxesSubplot:title={'center':'Complaints Concentration in Brooklyn'}, xlabel='Longitude', ylabel='Latitude'>"
      ]
     },
     "execution_count": 42,
     "metadata": {},
     "output_type": "execute_result"
    },
    {
     "data": {
      "image/png": "[encoded data removed]",
      "text/plain": [
       "<Figure size 640x480 with 1 Axes>"
      ]
     },
     "metadata": {},
     "output_type": "display_data"
    }
   ],
   "source": [
    "df_Brooklyn[['Longitude', 'Latitude']].plot(kind = 'scatter', x='Longitude', y='Latitude',\n",
    "                                            title = 'Complaints Concentration in Brooklyn')"
   ]
  },
  {
   "cell_type": "markdown",
   "id": "e86dbe28",
   "metadata": {},
   "source": [
    "# Hexbin plot for the concentration of compliants across Brooklyn"
   ]
  },
  {
   "cell_type": "code",
   "execution_count": 43,
   "id": "8378ee89",
   "metadata": {},
   "outputs": [
    {
     "data": {
      "text/plain": [
       "<AxesSubplot:title={'center':'Complaints Concentration in Brooklyn'}, xlabel='Longitude', ylabel='Latitude'>"
      ]
     },
     "execution_count": 43,
     "metadata": {},
     "output_type": "execute_result"
    },
    {
     "data": {
      "image/png": "[encoded data removed]",
      "text/plain": [
       "<Figure size 640x480 with 2 Axes>"
      ]
     },
     "metadata": {},
     "output_type": "display_data"
    }
   ],
   "source": [
    "df_Brooklyn[['Longitude', 'Latitude']].plot(kind = 'hexbin', x='Longitude', y='Latitude', cmap = 'jet',\n",
    "                                           gridsize = 40, title = 'Complaints Concentration in Brooklyn',mincnt=1)"
   ]
  },
  {
   "cell_type": "markdown",
   "id": "2810fe4c",
   "metadata": {},
   "source": [
    "# count vs complaint type"
   ]
  },
  {
   "cell_type": "code",
   "execution_count": 44,
   "id": "fda67308",
   "metadata": {},
   "outputs": [
    {
     "data": {
      "text/plain": [
       "<AxesSubplot:title={'center':'count vs complaint types'}>"
      ]
     },
     "execution_count": 44,
     "metadata": {},
     "output_type": "execute_result"
    },
    {
     "data": {
      "image/png": "[encoded data removed]",
      "text/plain": [
       "<Figure size 640x480 with 1 Axes>"
      ]
     },
     "metadata": {},
     "output_type": "display_data"
    }
   ],
   "source": [
    "df[\"Complaint Type\"].value_counts().plot(kind = \"bar\",title =\"count vs complaint types\")"
   ]
  },
  {
   "cell_type": "markdown",
   "id": "8c195109",
   "metadata": {},
   "source": [
    "# Top 10 types of complaints"
   ]
  },
  {
   "cell_type": "code",
   "execution_count": 45,
   "id": "31829be6",
   "metadata": {},
   "outputs": [
    {
     "data": {
      "text/plain": [
       "Blocked Driveway           100500\n",
       "Illegal Parking             91368\n",
       "Noise - Street/Sidewalk     51028\n",
       "Noise - Commercial          43666\n",
       "Derelict Vehicle            21433\n",
       "Noise - Vehicle             19288\n",
       "Animal Abuse                10525\n",
       "Traffic                      4935\n",
       "Vending                      4182\n",
       "Noise - Park                 4081\n",
       "Name: Complaint Type, dtype: int64"
      ]
     },
     "execution_count": 45,
     "metadata": {},
     "output_type": "execute_result"
    }
   ],
   "source": [
    "df[\"Complaint Type\"].value_counts().nlargest(10)"
   ]
  },
  {
   "cell_type": "markdown",
   "id": "86b0912c",
   "metadata": {},
   "source": [
    "# The types of complaints in each city "
   ]
  },
  {
   "cell_type": "code",
   "execution_count": 46,
   "id": "78c0ade9",
   "metadata": {},
   "outputs": [],
   "source": [
    "df1 = df[[\"Complaint Type\",\"City\"]]"
   ]
  },
  {
   "cell_type": "code",
   "execution_count": 47,
   "id": "c3c54417",
   "metadata": {},
   "outputs": [
    {
     "data": {
      "text/html": [
       "<div>\n",
       "<style scoped>\n",
       "    .dataframe tbody tr th:only-of-type {\n",
       "        vertical-align: middle;\n",
       "    }\n",
       "\n",
       "    .dataframe tbody tr th {\n",
       "        vertical-align: top;\n",
       "    }\n",
       "\n",
       "    .dataframe thead th {\n",
       "        text-align: right;\n",
       "    }\n",
       "</style>\n",
       "<table border=\"1\" class=\"dataframe\">\n",
       "  <thead>\n",
       "    <tr style=\"text-align: right;\">\n",
       "      <th></th>\n",
       "      <th>Complaint Type</th>\n",
       "      <th>City</th>\n",
       "    </tr>\n",
       "  </thead>\n",
       "  <tbody>\n",
       "    <tr>\n",
       "      <th>0</th>\n",
       "      <td>Noise - Street/Sidewalk</td>\n",
       "      <td>NEW YORK</td>\n",
       "    </tr>\n",
       "    <tr>\n",
       "      <th>1</th>\n",
       "      <td>Blocked Driveway</td>\n",
       "      <td>ASTORIA</td>\n",
       "    </tr>\n",
       "    <tr>\n",
       "      <th>2</th>\n",
       "      <td>Blocked Driveway</td>\n",
       "      <td>BRONX</td>\n",
       "    </tr>\n",
       "    <tr>\n",
       "      <th>3</th>\n",
       "      <td>Illegal Parking</td>\n",
       "      <td>BRONX</td>\n",
       "    </tr>\n",
       "    <tr>\n",
       "      <th>4</th>\n",
       "      <td>Illegal Parking</td>\n",
       "      <td>ELMHURST</td>\n",
       "    </tr>\n",
       "    <tr>\n",
       "      <th>...</th>\n",
       "      <td>...</td>\n",
       "      <td>...</td>\n",
       "    </tr>\n",
       "    <tr>\n",
       "      <th>364553</th>\n",
       "      <td>Illegal Parking</td>\n",
       "      <td>WOODHAVEN</td>\n",
       "    </tr>\n",
       "    <tr>\n",
       "      <th>364554</th>\n",
       "      <td>Noise - Vehicle</td>\n",
       "      <td>BRONX</td>\n",
       "    </tr>\n",
       "    <tr>\n",
       "      <th>364555</th>\n",
       "      <td>Noise - Street/Sidewalk</td>\n",
       "      <td>NEW YORK</td>\n",
       "    </tr>\n",
       "    <tr>\n",
       "      <th>364556</th>\n",
       "      <td>Blocked Driveway</td>\n",
       "      <td>BRONX</td>\n",
       "    </tr>\n",
       "    <tr>\n",
       "      <th>364557</th>\n",
       "      <td>Blocked Driveway</td>\n",
       "      <td>SOUTH OZONE PARK</td>\n",
       "    </tr>\n",
       "  </tbody>\n",
       "</table>\n",
       "<p>354622 rows × 2 columns</p>\n",
       "</div>"
      ],
      "text/plain": [
       "                 Complaint Type              City\n",
       "0       Noise - Street/Sidewalk          NEW YORK\n",
       "1              Blocked Driveway           ASTORIA\n",
       "2              Blocked Driveway             BRONX\n",
       "3               Illegal Parking             BRONX\n",
       "4               Illegal Parking          ELMHURST\n",
       "...                         ...               ...\n",
       "364553          Illegal Parking         WOODHAVEN\n",
       "364554          Noise - Vehicle             BRONX\n",
       "364555  Noise - Street/Sidewalk          NEW YORK\n",
       "364556         Blocked Driveway             BRONX\n",
       "364557         Blocked Driveway  SOUTH OZONE PARK\n",
       "\n",
       "[354622 rows x 2 columns]"
      ]
     },
     "execution_count": 47,
     "metadata": {},
     "output_type": "execute_result"
    }
   ],
   "source": [
    "df1"
   ]
  },
  {
   "cell_type": "markdown",
   "id": "1aa70171",
   "metadata": {},
   "source": [
    "# the major complaints in each city"
   ]
  },
  {
   "cell_type": "code",
   "execution_count": 48,
   "id": "dbce2f2d",
   "metadata": {},
   "outputs": [
    {
     "data": {
      "text/plain": [
       "City                 Complaint Type         \n",
       "BROOKLYN             Blocked Driveway           36428\n",
       "                     Illegal Parking            33517\n",
       "NEW YORK             Noise - Street/Sidewalk    22240\n",
       "                     Noise - Commercial         18684\n",
       "BRONX                Blocked Driveway           17058\n",
       "NEW YORK             Illegal Parking            14546\n",
       "BROOKLYN             Noise - Street/Sidewalk    13981\n",
       "                     Noise - Commercial         13854\n",
       "BRONX                Illegal Parking             9885\n",
       "                     Noise - Street/Sidewalk     9144\n",
       "NEW YORK             Noise - Vehicle             6293\n",
       "BROOKLYN             Derelict Vehicle            6251\n",
       "STATEN ISLAND        Illegal Parking             6221\n",
       "BROOKLYN             Noise - Vehicle             5964\n",
       "FLUSHING             Blocked Driveway            3638\n",
       "JAMAICA              Blocked Driveway            3618\n",
       "CORONA               Blocked Driveway            3597\n",
       "BRONX                Noise - Vehicle             3555\n",
       "ASTORIA              Blocked Driveway            3436\n",
       "BROOKLYN             Animal Abuse                3190\n",
       "BRONX                Noise - Commercial          2944\n",
       "STATEN ISLAND        Blocked Driveway            2845\n",
       "NEW YORK             Blocked Driveway            2704\n",
       "                     Vending                     2637\n",
       "BRONX                Derelict Vehicle            2399\n",
       "FLUSHING             Illegal Parking             2248\n",
       "RIDGEWOOD            Illegal Parking             2235\n",
       "STATEN ISLAND        Derelict Vehicle            2182\n",
       "RIDGEWOOD            Blocked Driveway            2161\n",
       "WOODSIDE             Blocked Driveway            2036\n",
       "ELMHURST             Blocked Driveway            1992\n",
       "BRONX                Animal Abuse                1969\n",
       "SOUTH RICHMOND HILL  Blocked Driveway            1946\n",
       "NEW YORK             Animal Abuse                1941\n",
       "EAST ELMHURST        Blocked Driveway            1925\n",
       "JAMAICA              Illegal Parking             1698\n",
       "NEW YORK             Traffic                     1693\n",
       "OZONE PARK           Blocked Driveway            1678\n",
       "ASTORIA              Noise - Commercial          1653\n",
       "BROOKLYN             Noise - Park                1574\n",
       "WOODHAVEN            Blocked Driveway            1363\n",
       "ASTORIA              Illegal Parking             1340\n",
       "NEW YORK             Noise - Park                1243\n",
       "MASPETH              Illegal Parking             1234\n",
       "BROOKLYN             Traffic                     1208\n",
       "SOUTH OZONE PARK     Blocked Driveway            1202\n",
       "FRESH MEADOWS        Illegal Parking             1157\n",
       "JAMAICA              Derelict Vehicle            1132\n",
       "MIDDLE VILLAGE       Illegal Parking             1104\n",
       "RICHMOND HILL        Blocked Driveway            1099\n",
       "dtype: int64"
      ]
     },
     "execution_count": 48,
     "metadata": {},
     "output_type": "execute_result"
    }
   ],
   "source": [
    "df[[\"City\",\"Complaint Type\"]].value_counts().nlargest(50)"
   ]
  },
  {
   "cell_type": "code",
   "execution_count": 49,
   "id": "015bf69d",
   "metadata": {},
   "outputs": [
    {
     "name": "stdout",
     "output_type": "stream",
     "text": [
      "<class 'pandas.core.frame.DataFrame'>\n",
      "Int64Index: 354622 entries, 0 to 364557\n",
      "Data columns (total 39 columns):\n",
      " #   Column                          Non-Null Count   Dtype         \n",
      "---  ------                          --------------   -----         \n",
      " 0   Unique Key                      354622 non-null  int64         \n",
      " 1   Created Date                    354622 non-null  datetime64[ns]\n",
      " 2   Closed Date                     354622 non-null  datetime64[ns]\n",
      " 3   Agency                          354622 non-null  object        \n",
      " 4   Agency Name                     354622 non-null  object        \n",
      " 5   Complaint Type                  354622 non-null  object        \n",
      " 6   Descriptor                      354622 non-null  object        \n",
      " 7   Location Type                   354622 non-null  object        \n",
      " 8   Incident Zip                    354622 non-null  float64       \n",
      " 9   Incident Address                354622 non-null  object        \n",
      " 10  Street Name                     354622 non-null  object        \n",
      " 11  Cross Street 1                  354622 non-null  object        \n",
      " 12  Cross Street 2                  354622 non-null  object        \n",
      " 13  Address Type                    354622 non-null  object        \n",
      " 14  City                            354622 non-null  object        \n",
      " 15  Facility Type                   354622 non-null  object        \n",
      " 16  Status                          354622 non-null  object        \n",
      " 17  Due Date                        354622 non-null  datetime64[ns]\n",
      " 18  Resolution Description          354622 non-null  object        \n",
      " 19  Resolution Action Updated Date  354622 non-null  object        \n",
      " 20  Community Board                 354622 non-null  object        \n",
      " 21  Borough                         354622 non-null  object        \n",
      " 22  X Coordinate (State Plane)      354622 non-null  float64       \n",
      " 23  Y Coordinate (State Plane)      354622 non-null  float64       \n",
      " 24  Park Facility Name              354622 non-null  object        \n",
      " 25  Park Borough                    354622 non-null  object        \n",
      " 26  School Name                     354622 non-null  object        \n",
      " 27  School Number                   354622 non-null  object        \n",
      " 28  School Region                   354622 non-null  object        \n",
      " 29  School Code                     354622 non-null  object        \n",
      " 30  School Phone Number             354622 non-null  object        \n",
      " 31  School Address                  354622 non-null  object        \n",
      " 32  School City                     354622 non-null  object        \n",
      " 33  School State                    354622 non-null  object        \n",
      " 34  School Zip                      354622 non-null  object        \n",
      " 35  School Not Found                354622 non-null  object        \n",
      " 36  Latitude                        354622 non-null  float64       \n",
      " 37  Longitude                       354622 non-null  float64       \n",
      " 38  Location                        354622 non-null  object        \n",
      "dtypes: datetime64[ns](3), float64(5), int64(1), object(30)\n",
      "memory usage: 108.2+ MB\n"
     ]
    }
   ],
   "source": [
    "df.info()"
   ]
  },
  {
   "cell_type": "markdown",
   "id": "b95d687b",
   "metadata": {},
   "source": [
    "# the average response time across various types of complaints"
   ]
  },
  {
   "cell_type": "code",
   "execution_count": 50,
   "id": "7ad4d31e",
   "metadata": {},
   "outputs": [],
   "source": [
    "df[\"Response_time\"] = (df[\"Closed Date\"] - df[\"Created Date\"]).dt.days"
   ]
  },
  {
   "cell_type": "code",
   "execution_count": 51,
   "id": "078cbd43",
   "metadata": {},
   "outputs": [
    {
     "data": {
      "text/html": [
       "<div>\n",
       "<style scoped>\n",
       "    .dataframe tbody tr th:only-of-type {\n",
       "        vertical-align: middle;\n",
       "    }\n",
       "\n",
       "    .dataframe tbody tr th {\n",
       "        vertical-align: top;\n",
       "    }\n",
       "\n",
       "    .dataframe thead th {\n",
       "        text-align: right;\n",
       "    }\n",
       "</style>\n",
       "<table border=\"1\" class=\"dataframe\">\n",
       "  <thead>\n",
       "    <tr style=\"text-align: right;\">\n",
       "      <th></th>\n",
       "      <th>Unique Key</th>\n",
       "      <th>Created Date</th>\n",
       "      <th>Closed Date</th>\n",
       "      <th>Agency</th>\n",
       "      <th>Agency Name</th>\n",
       "      <th>Complaint Type</th>\n",
       "      <th>Descriptor</th>\n",
       "      <th>Location Type</th>\n",
       "      <th>Incident Zip</th>\n",
       "      <th>Incident Address</th>\n",
       "      <th>...</th>\n",
       "      <th>School Phone Number</th>\n",
       "      <th>School Address</th>\n",
       "      <th>School City</th>\n",
       "      <th>School State</th>\n",
       "      <th>School Zip</th>\n",
       "      <th>School Not Found</th>\n",
       "      <th>Latitude</th>\n",
       "      <th>Longitude</th>\n",
       "      <th>Location</th>\n",
       "      <th>Response_time</th>\n",
       "    </tr>\n",
       "  </thead>\n",
       "  <tbody>\n",
       "    <tr>\n",
       "      <th>0</th>\n",
       "      <td>32310363</td>\n",
       "      <td>2015-12-31 23:59:45</td>\n",
       "      <td>2016-01-01 00:55:15</td>\n",
       "      <td>NYPD</td>\n",
       "      <td>New York City Police Department</td>\n",
       "      <td>Noise - Street/Sidewalk</td>\n",
       "      <td>Loud Music/Party</td>\n",
       "      <td>Street/Sidewalk</td>\n",
       "      <td>10034.0</td>\n",
       "      <td>71 VERMILYEA AVENUE</td>\n",
       "      <td>...</td>\n",
       "      <td>Unspecified</td>\n",
       "      <td>Unspecified</td>\n",
       "      <td>Unspecified</td>\n",
       "      <td>Unspecified</td>\n",
       "      <td>Unspecified</td>\n",
       "      <td>N</td>\n",
       "      <td>40.865682</td>\n",
       "      <td>-73.923501</td>\n",
       "      <td>(40.86568153633767, -73.92350095571744)</td>\n",
       "      <td>0</td>\n",
       "    </tr>\n",
       "    <tr>\n",
       "      <th>1</th>\n",
       "      <td>32309934</td>\n",
       "      <td>2015-12-31 23:59:44</td>\n",
       "      <td>2016-01-01 01:26:57</td>\n",
       "      <td>NYPD</td>\n",
       "      <td>New York City Police Department</td>\n",
       "      <td>Blocked Driveway</td>\n",
       "      <td>No Access</td>\n",
       "      <td>Street/Sidewalk</td>\n",
       "      <td>11105.0</td>\n",
       "      <td>27-07 23 AVENUE</td>\n",
       "      <td>...</td>\n",
       "      <td>Unspecified</td>\n",
       "      <td>Unspecified</td>\n",
       "      <td>Unspecified</td>\n",
       "      <td>Unspecified</td>\n",
       "      <td>Unspecified</td>\n",
       "      <td>N</td>\n",
       "      <td>40.775945</td>\n",
       "      <td>-73.915094</td>\n",
       "      <td>(40.775945312321085, -73.91509393898605)</td>\n",
       "      <td>0</td>\n",
       "    </tr>\n",
       "    <tr>\n",
       "      <th>2</th>\n",
       "      <td>32309159</td>\n",
       "      <td>2015-12-31 23:59:29</td>\n",
       "      <td>2016-01-01 04:51:03</td>\n",
       "      <td>NYPD</td>\n",
       "      <td>New York City Police Department</td>\n",
       "      <td>Blocked Driveway</td>\n",
       "      <td>No Access</td>\n",
       "      <td>Street/Sidewalk</td>\n",
       "      <td>10458.0</td>\n",
       "      <td>2897 VALENTINE AVENUE</td>\n",
       "      <td>...</td>\n",
       "      <td>Unspecified</td>\n",
       "      <td>Unspecified</td>\n",
       "      <td>Unspecified</td>\n",
       "      <td>Unspecified</td>\n",
       "      <td>Unspecified</td>\n",
       "      <td>N</td>\n",
       "      <td>40.870325</td>\n",
       "      <td>-73.888525</td>\n",
       "      <td>(40.870324522111424, -73.88852464418646)</td>\n",
       "      <td>0</td>\n",
       "    </tr>\n",
       "    <tr>\n",
       "      <th>3</th>\n",
       "      <td>32305098</td>\n",
       "      <td>2015-12-31 23:57:46</td>\n",
       "      <td>2016-01-01 07:43:13</td>\n",
       "      <td>NYPD</td>\n",
       "      <td>New York City Police Department</td>\n",
       "      <td>Illegal Parking</td>\n",
       "      <td>Commercial Overnight Parking</td>\n",
       "      <td>Street/Sidewalk</td>\n",
       "      <td>10461.0</td>\n",
       "      <td>2940 BAISLEY AVENUE</td>\n",
       "      <td>...</td>\n",
       "      <td>Unspecified</td>\n",
       "      <td>Unspecified</td>\n",
       "      <td>Unspecified</td>\n",
       "      <td>Unspecified</td>\n",
       "      <td>Unspecified</td>\n",
       "      <td>N</td>\n",
       "      <td>40.835994</td>\n",
       "      <td>-73.828379</td>\n",
       "      <td>(40.83599404683083, -73.82837939584206)</td>\n",
       "      <td>0</td>\n",
       "    </tr>\n",
       "    <tr>\n",
       "      <th>4</th>\n",
       "      <td>32306529</td>\n",
       "      <td>2015-12-31 23:56:58</td>\n",
       "      <td>2016-01-01 03:24:42</td>\n",
       "      <td>NYPD</td>\n",
       "      <td>New York City Police Department</td>\n",
       "      <td>Illegal Parking</td>\n",
       "      <td>Blocked Sidewalk</td>\n",
       "      <td>Street/Sidewalk</td>\n",
       "      <td>11373.0</td>\n",
       "      <td>87-14 57 ROAD</td>\n",
       "      <td>...</td>\n",
       "      <td>Unspecified</td>\n",
       "      <td>Unspecified</td>\n",
       "      <td>Unspecified</td>\n",
       "      <td>Unspecified</td>\n",
       "      <td>Unspecified</td>\n",
       "      <td>N</td>\n",
       "      <td>40.733060</td>\n",
       "      <td>-73.874170</td>\n",
       "      <td>(40.733059618956815, -73.87416975810375)</td>\n",
       "      <td>0</td>\n",
       "    </tr>\n",
       "  </tbody>\n",
       "</table>\n",
       "<p>5 rows × 40 columns</p>\n",
       "</div>"
      ],
      "text/plain": [
       "   Unique Key        Created Date         Closed Date Agency  \\\n",
       "0    32310363 2015-12-31 23:59:45 2016-01-01 00:55:15   NYPD   \n",
       "1    32309934 2015-12-31 23:59:44 2016-01-01 01:26:57   NYPD   \n",
       "2    32309159 2015-12-31 23:59:29 2016-01-01 04:51:03   NYPD   \n",
       "3    32305098 2015-12-31 23:57:46 2016-01-01 07:43:13   NYPD   \n",
       "4    32306529 2015-12-31 23:56:58 2016-01-01 03:24:42   NYPD   \n",
       "\n",
       "                       Agency Name           Complaint Type  \\\n",
       "0  New York City Police Department  Noise - Street/Sidewalk   \n",
       "1  New York City Police Department         Blocked Driveway   \n",
       "2  New York City Police Department         Blocked Driveway   \n",
       "3  New York City Police Department          Illegal Parking   \n",
       "4  New York City Police Department          Illegal Parking   \n",
       "\n",
       "                     Descriptor    Location Type  Incident Zip  \\\n",
       "0              Loud Music/Party  Street/Sidewalk       10034.0   \n",
       "1                     No Access  Street/Sidewalk       11105.0   \n",
       "2                     No Access  Street/Sidewalk       10458.0   \n",
       "3  Commercial Overnight Parking  Street/Sidewalk       10461.0   \n",
       "4              Blocked Sidewalk  Street/Sidewalk       11373.0   \n",
       "\n",
       "        Incident Address  ... School Phone Number School Address  School City  \\\n",
       "0    71 VERMILYEA AVENUE  ...         Unspecified    Unspecified  Unspecified   \n",
       "1        27-07 23 AVENUE  ...         Unspecified    Unspecified  Unspecified   \n",
       "2  2897 VALENTINE AVENUE  ...         Unspecified    Unspecified  Unspecified   \n",
       "3    2940 BAISLEY AVENUE  ...         Unspecified    Unspecified  Unspecified   \n",
       "4          87-14 57 ROAD  ...         Unspecified    Unspecified  Unspecified   \n",
       "\n",
       "  School State   School Zip School Not Found   Latitude  Longitude  \\\n",
       "0  Unspecified  Unspecified                N  40.865682 -73.923501   \n",
       "1  Unspecified  Unspecified                N  40.775945 -73.915094   \n",
       "2  Unspecified  Unspecified                N  40.870325 -73.888525   \n",
       "3  Unspecified  Unspecified                N  40.835994 -73.828379   \n",
       "4  Unspecified  Unspecified                N  40.733060 -73.874170   \n",
       "\n",
       "                                   Location Response_time  \n",
       "0   (40.86568153633767, -73.92350095571744)             0  \n",
       "1  (40.775945312321085, -73.91509393898605)             0  \n",
       "2  (40.870324522111424, -73.88852464418646)             0  \n",
       "3   (40.83599404683083, -73.82837939584206)             0  \n",
       "4  (40.733059618956815, -73.87416975810375)             0  \n",
       "\n",
       "[5 rows x 40 columns]"
      ]
     },
     "execution_count": 51,
     "metadata": {},
     "output_type": "execute_result"
    }
   ],
   "source": [
    "df.head()"
   ]
  },
  {
   "cell_type": "code",
   "execution_count": 52,
   "id": "eb2d0e6d",
   "metadata": {},
   "outputs": [
    {
     "data": {
      "text/plain": [
       "Complaint Type\n",
       "Posting Advertisement       0.001475\n",
       "Disorderly Youth            0.003175\n",
       "Noise - Commercial          0.005886\n",
       "Noise - Park                0.006371\n",
       "Noise - Vehicle             0.007829\n",
       "Vending                     0.008369\n",
       "Noise - House of Worship    0.008443\n",
       "Noise - Street/Sidewalk     0.008877\n",
       "Drinking                    0.010000\n",
       "Traffic                     0.011348\n",
       "Blocked Driveway            0.011721\n",
       "Illegal Parking             0.012718\n",
       "Animal Abuse                0.020428\n",
       "Graffiti                    0.044586\n",
       "Derelict Vehicle            0.064713\n",
       "Name: Response_time, dtype: float64"
      ]
     },
     "execution_count": 52,
     "metadata": {},
     "output_type": "execute_result"
    }
   ],
   "source": [
    "df.groupby(\"Complaint Type\").Response_time.mean().sort_values()"
   ]
  }
 ],
 "metadata": {
  "kernelspec": {
   "display_name": "Python 3 (ipykernel)",
   "language": "python",
   "name": "python3"
  },
  "language_info": {
   "codemirror_mode": {
    "name": "ipython",
    "version": 3
   },
   "file_extension": ".py",
   "mimetype": "text/x-python",
   "name": "python",
   "nbconvert_exporter": "python",
   "pygments_lexer": "ipython3",
   "version": "3.10.7"
  }
 },
 "nbformat": 4,
 "nbformat_minor": 5
}
